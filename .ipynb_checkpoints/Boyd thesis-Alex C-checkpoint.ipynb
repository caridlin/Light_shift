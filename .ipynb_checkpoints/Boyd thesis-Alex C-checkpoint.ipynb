{
 "cells": [
  {
   "cell_type": "code",
   "execution_count": 1,
   "metadata": {
    "collapsed": true
   },
   "outputs": [],
   "source": [
    "from IPython.display import display\n",
    "\n",
    "from sympy.interactive import printing\n",
    "printing.init_printing(use_latex=True)\n",
    "\n",
    "from __future__ import division\n",
    "import sympy as sym\n",
    "from sympy import *\n",
    "\n",
    "%matplotlib inline\n",
    "from matplotlib import rc\n",
    "rc('font',**{'family':'serif','size'   : 12})"
   ]
  },
  {
   "cell_type": "markdown",
   "metadata": {},
   "source": [
    "Relevant states are $5s^1S_0, 5p^1P_1, 6s^3S_1, 5p^3P_{0,1,2}, 6p^3P_{0,1,2}, 4d^3D_{1,2,3}, 5d^3D_{1,2,3}$. Five transitions in total."
   ]
  },
  {
   "cell_type": "markdown",
   "metadata": {},
   "source": [
    "# Table 3.1"
   ]
  },
  {
   "cell_type": "markdown",
   "metadata": {},
   "source": [
    "Final state: $\\mid S, L_k, J_k \\rangle$ with linewidth $\\frac{1}{A_T}$\n",
    "\n",
    "Initial state: $\\mid S, L_i, J_i \\rangle$\n",
    "\n",
    "Transition rate connecting these two states is $\\frac{1}{\\tilde{A_{ik}}}$"
   ]
  },
  {
   "cell_type": "markdown",
   "metadata": {},
   "source": [
    "<img src=\"files/branching_ratio.png\", width=450>\n",
    "\n",
    "where $p$ is the polarization of the photon.\n",
    "\n",
    "$p = 0$, linear\n",
    "\n",
    "$p = \\pm 1$, circular"
   ]
  },
  {
   "cell_type": "code",
   "execution_count": 2,
   "metadata": {
    "collapsed": true
   },
   "outputs": [],
   "source": [
    "from sympy import S\n",
    "from sympy.physics.wigner import racah\n",
    "from sympy.physics.wigner import wigner_3j"
   ]
  },
  {
   "cell_type": "code",
   "execution_count": 3,
   "metadata": {},
   "outputs": [],
   "source": [
    "def A_ik(S, L_i, J_i, L_k, J_k, p, m_i):\n",
    "    tem1 = (2 * J_i + 1) * (racah(J_i, J_k, L_i, L_k, 1 ,S))**2\n",
    "    tem2 = 0\n",
    "    tem3 = 0\n",
    "    for m_k in range(-1 * J_k, J_k + 1, 1):\n",
    "        tem3 = tem3 + (2 * J_k + 1) * (wigner_3j(J_i, 1, J_k, m_i, p, -1 * m_k))**2\n",
    "    for J in range(abs(L_i - S), abs(L_i + S) + 1, 1):\n",
    "        tem2 = tem2 + (2 * J + 1) * (racah(J, J_k, L_i, L_k, 1 ,S))**2\n",
    "    return tem1 * tem3 / tem2"
   ]
  },
  {
   "cell_type": "code",
   "execution_count": 4,
   "metadata": {},
   "outputs": [
    {
     "name": "stdout",
     "output_type": "stream",
     "text": [
      "-1/14\n",
      "sqrt(715)/143\n"
     ]
    }
   ],
   "source": [
    "print racah(3,3,3,3,3,3)\n",
    "print wigner_3j(2, 6, 4, 0, 0, 0)"
   ]
  },
  {
   "cell_type": "code",
   "execution_count": 5,
   "metadata": {},
   "outputs": [
    {
     "name": "stdout",
     "output_type": "stream",
     "text": [
      "1\n",
      "1/9\n",
      "1/6\n",
      "1/4\n"
     ]
    }
   ],
   "source": [
    "# 1P1 -> 1S0\n",
    "print A_ik(0, 0, 0, 1, 1, -1, 0)\n",
    "# 3S1 -> 3P0\n",
    "print A_ik(1, 1, 0, 0, 1, 0, 0)\n",
    "# 3S1 -> 3P1\n",
    "print A_ik(1, 1, 1, 0, 1, -1, 1)\n",
    "# 3P2 -> 3P1\n",
    "print A_ik(1, 1, 1, 1, 2, -1, -1)"
   ]
  },
  {
   "cell_type": "markdown",
   "metadata": {},
   "source": [
    "# Several constants"
   ]
  },
  {
   "cell_type": "code",
   "execution_count": 6,
   "metadata": {
    "collapsed": true
   },
   "outputs": [],
   "source": [
    "from __future__ import division, print_function, unicode_literals\n",
    "\n",
    "# Basic constants\n",
    "pi = 3.1415926\n",
    "c = 299792458\n",
    "h = 6.62606957e-34\n",
    "hbar = h / 2 / pi\n",
    "k_B = 1.3806488e-23\n",
    "m_e = 9.10938291e-31\n",
    "m_p = 1.672621898e-27\n",
    "mu_0 = 4e-7 * pi\n",
    "epsilon_0 = 1 / c**2 / mu_0\n",
    "E = 1.602176565e-19\n",
    "N_A = 6.02214129e+23\n",
    "a_0 = 5.2917721067E-11\n",
    "\n",
    "\n",
    "# Mass of Sr-88, Sr-87, Sr-86, Sr-84\n",
    "M88 = 1.459706905272492E-25  \n",
    "M87 = 1.4431557366419E-25  \n",
    "M86 = 1.42655671117996E-25\n",
    "M84 = 1.3934150821E-25\n",
    "M = M88"
   ]
  },
  {
   "cell_type": "markdown",
   "metadata": {},
   "source": [
    "# Polarizability of $^1S_0$ state"
   ]
  },
  {
   "cell_type": "markdown",
   "metadata": {},
   "source": [
    "It couples only to the $^1P_1$ state with $\\frac{\\tilde{A_{ik}}}{A_T} = 1$ and $\\zeta(\\omega_{ik}) = 1$. Therefore $A_{ik} = \\zeta(\\omega_{ik}) \\frac{\\tilde{A_{ik}}}{A_T} A_T = A_T$. From Boyd Table 3.2, we have the relevant transition frequencies and rates as"
   ]
  },
  {
   "cell_type": "code",
   "execution_count": 64,
   "metadata": {},
   "outputs": [
    {
     "name": "stderr",
     "output_type": "stream",
     "text": [
      "/usr/local/lib/python2.7/dist-packages/ipykernel/__main__.py:23: DeprecationWarning: axis != 0 for ndim == 1; this will raise an error in future versions of numpy\n",
      "/usr/local/lib/python2.7/dist-packages/ipykernel/__main__.py:24: DeprecationWarning: axis != 0 for ndim == 1; this will raise an error in future versions of numpy\n"
     ]
    }
   ],
   "source": [
    "# Transition frequency in units of 10^15 Hz\n",
    "# omega = 2 * pi * f\n",
    "# Transition rates in units of 10^6 s^-1\n",
    "\n",
    "from numpy import concatenate\n",
    "f = open ( '1S0' , 'r')\n",
    "l = []\n",
    "l = [line.split() for line in f]\n",
    "omega_1P1 = []\n",
    "omega_3P1 = []\n",
    "AT_1P1 = []\n",
    "AT_3P1 = []\n",
    "for line in l[0:42]:\n",
    "    #print(line)\n",
    "    if line[5] == '1P1':\n",
    "        omega_1P1.append(float(line[7]))\n",
    "        AT_1P1.append(float(line[9]))\n",
    "    if line[5] == '3P1':\n",
    "        omega_3P1.append(float(line[7]))\n",
    "        AT_3P1.append(float(line[9]))\n",
    "    #y1.append(float(p[1]))\n",
    "    \n",
    "omega_c = concatenate((omega_1P1, omega_3P1), axis=1)\n",
    "AT_c = concatenate((AT_1P1, AT_3P1), axis=1)"
   ]
  },
  {
   "cell_type": "code",
   "execution_count": 65,
   "metadata": {},
   "outputs": [],
   "source": [
    "# Omega in units of 2 * pi * 10^15 Hz\n",
    "# Wavelength in units of nm\n",
    "def Wavelength(omega):\n",
    "    return 2 * pi * c * 1E-6 / omega\n",
    "\n",
    "def Omega(wavelength):\n",
    "    return 2 * pi * c * 1E-6 / wavelength"
   ]
  },
  {
   "cell_type": "code",
   "execution_count": 66,
   "metadata": {},
   "outputs": [
    {
     "name": "stdout",
     "output_type": "stream",
     "text": [
      "460.861792139\n",
      "0.650504040721\n"
     ]
    }
   ],
   "source": [
    "print (Wavelength(omega_5s5p_1P1))\n",
    "print (Omega(Wavelength(omega_5s5p_1P1)) / (2 * pi))"
   ]
  },
  {
   "cell_type": "code",
   "execution_count": 68,
   "metadata": {
    "collapsed": true
   },
   "outputs": [],
   "source": [
    "# 1S0 state polarizability calculation\n",
    "\n",
    "def Alpha_1S0(omega):\n",
    "    result = 0\n",
    "    for i, omega_ik in enumerate(omega_c):\n",
    "        result = result + AT_c[i] * 1E-54 / ((omega_ik)**2 * ((omega_ik)**2 - (omega)**2))\n",
    "    # result = result * 6 * pi * epsilon_0 * c**3   # SI units\n",
    "    result = result * 3 / 2 * (c / a_0)**3    # Atomic units\n",
    "    return result"
   ]
  },
  {
   "cell_type": "code",
   "execution_count": 72,
   "metadata": {},
   "outputs": [
    {
     "data": {
      "image/png": "[encoded data removed]",
      "text/plain": [
       "<matplotlib.figure.Figure at 0x7f7aefe5df10>"
      ]
     },
     "metadata": {},
     "output_type": "display_data"
    }
   ],
   "source": [
    "import matplotlib.gridspec as gridspec\n",
    "import matplotlib.pyplot as plt\n",
    "from numpy import arange\n",
    "\n",
    "figure = plt.figure(figsize=(14, 12))\n",
    "gs = gridspec.GridSpec(2, 2)\n",
    "gs.update(wspace=0.3,hspace=0.4)\n",
    "\n",
    "alpha = []\n",
    "wavelength = arange(1, 1000, 1)\n",
    "for _wavelength in wavelength:\n",
    "    alpha.append(Alpha_1S0(Omega(_wavelength)))\n",
    "ax1 = plt.subplot(gs[0,0]) \n",
    "ax1.plot(wavelength, alpha, markersize = 10)\n",
    "ax1.set_ylim([-2000,2000])\n",
    "ax1.set_xlabel(\"$\\lambda$ (nm)\")\n",
    "ax1.set_ylabel(r\"$\\alpha$ (a.u.)\")\n",
    "ax1.legend(loc = 1)\n",
    "ax1.set_title('$^1S_0$')\n",
    "ax1.grid(1)\n",
    "\n",
    "ax2 = plt.subplot(gs[0,1]) \n",
    "ax2.plot(1000 * Omega(wavelength) / (2 * pi), alpha, markersize = 10)\n",
    "ax2.set_xlim([0,2000])\n",
    "ax2.set_ylim([-2000,2000])\n",
    "ax2.set_xlabel(\"$f$ (THz)\")\n",
    "ax2.set_ylabel(r\"$\\alpha$ (a.u.)\")\n",
    "ax2.legend(loc = 1)\n",
    "ax2.set_title('$^1S_0$')\n",
    "ax2.grid(1)\n",
    "\n",
    "alpha = []\n",
    "wavelength = arange(495, 565, 0.1)\n",
    "for _wavelength in wavelength:\n",
    "    alpha.append(Alpha_1S0(Omega(_wavelength)))\n",
    "\n",
    "ax3 = plt.subplot(gs[1,0]) \n",
    "ax3.plot(wavelength, alpha, markersize = 10)\n",
    "#ax3.set_xlim([500,535])\n",
    "ax3.set_xlabel(\"$\\lambda$ (nm)\")\n",
    "ax3.set_ylabel(r\"$\\alpha$ (a.u.)\")\n",
    "ax3.legend(loc = 1)\n",
    "ax3.set_title('$^1S_0$')\n",
    "ax3.grid(1)"
   ]
  },
  {
   "cell_type": "code",
   "execution_count": null,
   "metadata": {
    "collapsed": true
   },
   "outputs": [],
   "source": []
  }
 ],
 "metadata": {
  "kernelspec": {
   "display_name": "Python 2",
   "language": "python",
   "name": "python2"
  },
  "language_info": {
   "codemirror_mode": {
    "name": "ipython",
    "version": 2
   },
   "file_extension": ".py",
   "mimetype": "text/x-python",
   "name": "python",
   "nbconvert_exporter": "python",
   "pygments_lexer": "ipython2",
   "version": "2.7.10"
  }
 },
 "nbformat": 4,
 "nbformat_minor": 1
}
