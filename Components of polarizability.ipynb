{
 "cells": [
  {
   "cell_type": "markdown",
   "metadata": {},
   "source": [
    "# 1. Two theorems"
   ]
  },
  {
   "cell_type": "markdown",
   "metadata": {},
   "source": [
    "## Wigner-Eckart theorem "
   ]
  },
  {
   "cell_type": "markdown",
   "metadata": {},
   "source": [
    "$\\langle \\alpha j m \\mid  T_q^{(k)} \\mid \\alpha^{'} j^{'} m^{'} \\rangle = (-1)^{2k} \\langle \\alpha j  \\mid \\mid \\textbf{T}^{(k)} \\mid \\mid \\alpha^{'} j^{'}  \\rangle \\langle jm \\mid j^{'} m^{'}; k q \\rangle$\n",
    "\n",
    "contains Clebsh-Gordon coefficients\n"
   ]
  },
  {
   "cell_type": "markdown",
   "metadata": {},
   "source": [
    "## Decomposition rule"
   ]
  },
  {
   "cell_type": "markdown",
   "metadata": {},
   "source": [
    "For a single subsystem,\n",
    "\n",
    "$\\langle  j  \\mid \\mid \\textbf{T}^{(k)} \\mid \\mid j^{'}  \\rangle = \\delta_{j_2 j_2^{'}} (-1)^{j^{'} + j_1 + k + j_{2}} \\sqrt{(2j^{'} + 1)(2 j_1 + 1)}  \\begin{Bmatrix}\n",
    "j_{1} & j_{1}^{'} & k \\\\\n",
    "j^{'} & j  & j_{2} \\\\ \\end{Bmatrix} \\langle  j_1  \\mid \\mid \\textbf{T}^{(k)} \\mid \\mid j_1^{'}  \\rangle$\n",
    "\n",
    "Wigner-6j symbol, recoupling of three angular momenta"
   ]
  },
  {
   "cell_type": "markdown",
   "metadata": {},
   "source": [
    "# 2. DC Stark shifts"
   ]
  },
  {
   "cell_type": "markdown",
   "metadata": {},
   "source": [
    "$H_{int} = - \\textbf{d} \\cdot \\textbf{E}$\n",
    "\n",
    "Second order time-independent perturabtion theory gives,\n",
    "\n",
    "$\\Delta E_{\\alpha} = \\sum_j \\frac{\\mid \\langle \\alpha \\mid H_{int} \\mid \\beta_j \\rangle \\mid^2}{E_{\\alpha} - E_{\\beta_j}} = \\langle \\alpha \\mid H_{stark} \\mid \\alpha \\rangle$\n",
    "\n",
    "$H_{stark} = \\sum_j \\frac{d_{\\mu} \\mid \\beta_j \\rangle \\langle \\beta_j \\mid d_{\\nu}}{E_{\\alpha} - E_{\\beta_j}}E_{\\mu} E_{\\nu} = S_{\\mu \\nu} E_{\\mu} E_{\\nu}$\n",
    "\n",
    "where $S_{\\mu \\nu} = \\sum_j \\frac{d_{\\mu} \\mid \\beta_j \\rangle \\langle \\beta_j \\mid d_{\\nu}}{E_{\\alpha} - E_{\\beta_j}}$"
   ]
  },
  {
   "cell_type": "markdown",
   "metadata": {},
   "source": [
    "$\\textbf{A Cartesian tensor of rank 2 can be decomposed into irreducible spherical tensors of rank 0, 1, 2 as}$\n",
    "\n",
    "$M_{\\alpha \\beta} = \\frac{1}{3} M^{(0)} \\delta_{\\alpha \\beta} + \\frac{1}{4} M_{\\mu}^{(1)} \\epsilon_{\\mu \\alpha \\beta} + M_{\\alpha \\beta}^{(2)}$\n",
    "\n",
    "where\n",
    "\n",
    "$M^{(0)} = M_{\\mu \\mu}$\n",
    "\n",
    "$M_{\\mu}^{(1)} = \\epsilon_{\\mu \\sigma \\tau} (M_{\\sigma \\tau} - M_{\\tau \\sigma})$\n",
    "\n",
    "$M_{\\alpha \\beta}^{(2)} = M_{\\alpha \\beta} - \\frac{1}{3} M_{\\mu \\mu} \\delta_{\\alpha \\beta}$"
   ]
  },
  {
   "cell_type": "markdown",
   "metadata": {},
   "source": [
    "Same for $S_{\\mu \\nu}$\n",
    "\n",
    "$S^{(0)} = S_{\\mu \\mu}$\n",
    "\n",
    "$S_{\\mu}^{(1)} = 0$\n",
    "\n",
    "$S_{\\mu \\nu}^{(2)} = S_{\\mu \\nu} - \\frac{1}{3} S_{\\sigma \\sigma} \\delta_{\\mu \\nu}$\n",
    "\n",
    "$\\Delta E_{\\alpha} = \\frac{1}{3} \\langle \\alpha \\mid S^{(0)} \\mid \\alpha \\rangle E^2 + \\langle \\alpha \\mid S^{(2)}_{\\mu \\nu} \\mid \\alpha \\rangle E_{\\mu} E_{\\nu}$\n",
    "\n",
    "scalar and tensor shift"
   ]
  },
  {
   "cell_type": "markdown",
   "metadata": {},
   "source": [
    "## Scalar shift"
   ]
  },
  {
   "cell_type": "markdown",
   "metadata": {},
   "source": [
    "Using Wigner-Eckart theorem, we have...\n",
    "\n",
    "$\\alpha^{(0)}(J) = -\\frac{2}{3} \\sum_{J^{'}} \\frac{\\mid \\langle J \\mid\\mid \\textbf{d} \\mid\\mid J^{'}\\rangle \\mid^2}{E_J - E_{J}^{'}}$\n",
    "\n",
    "$\\Delta E_J ^{(0)} = -\\frac{1}{2} \\alpha^{(0)} (J) E^2$\n",
    "\n",
    "independent of $m_J$: orientation-independent shift"
   ]
  },
  {
   "cell_type": "markdown",
   "metadata": {},
   "source": [
    "## Tensor shift "
   ]
  },
  {
   "cell_type": "markdown",
   "metadata": {},
   "source": [
    "Switch to spherical basis (Roman indices: spherical components. Greek: Cartesian components)\n",
    "\n",
    "$\\langle \\alpha \\mid S^{(2)}_{\\mu \\nu} \\mid \\alpha \\rangle E_{\\mu} E_{\\nu}  = \\sum_q (-1)^{q} \\langle J m_J \\mid S^{(2)}_q \\mid J m_J \\rangle [\\textbf{EE}]^{(2)}_{-q}$\n",
    "\n",
    "Applying Wigner-Eckart theorem one time, we find the only non-vanishing contribution comes from $q = 0$, and \n",
    "\n",
    "$[\\textbf{EE}]^{(2)}_{0} = \\frac{1}{\\sqrt{6}}(3E_z^2 - E^2)$\n",
    "\n",
    "We define tensor polarizability as (in order to get the the correct normalization)\n",
    "\n",
    "$\\alpha^{(2)}(J) = -\\langle J \\mid \\mid S^{(2)}_q \\mid \\mid J \\rangle \\sqrt{\\frac{8J(2J-1)}{3(J+1)(2J+3)}}$\n",
    "\n",
    "$\\Delta E_{J, m_J} ^{(2)} = -\\frac{1}{4} \\alpha^{(2)} (J) (3E_z^2 - E^2) \\frac{3 m_J^2 - J(J+1)}{J(2J-1)}$\n",
    "\n",
    "$\\textbf{Normalization.}$ Let $\\textbf{E} = E_z \\hat{z}$, $\\Delta E_{J, \\pm{J}} ^{(2)} = -\\frac{1}{2} \\alpha^{(2)}(J) E_z^2$\n",
    "\n",
    "depends on $m_J$\n",
    "\n",
    "Use one more time Wigner-Eckart theorem, we have\n",
    "\n",
    "$\\alpha^{(2)}(J) =  \\sum_{J^{'}} (-1)^{J + J^{'} + 1} \\sqrt{\\frac{40J (2J+1)(2J-1)}{3(J+1)(2J+3)}}\\begin{Bmatrix}\n",
    "1 & 1 & 2 \\\\\n",
    "J & J  & J^{'} \\\\ \\end{Bmatrix} \\frac{\\mid \\langle J \\mid\\mid \\textbf{d} \\mid\\mid J^{'}\\rangle \\mid^2}{E_J - E_{J}^{'}}$"
   ]
  },
  {
   "cell_type": "markdown",
   "metadata": {},
   "source": [
    "## Note"
   ]
  },
  {
   "cell_type": "markdown",
   "metadata": {},
   "source": [
    "$J = 0$ or $J = \\frac{1}{2}$, no tensor shift"
   ]
  },
  {
   "cell_type": "markdown",
   "metadata": {},
   "source": [
    "# 3. AC Stark shifts (light shifts)"
   ]
  },
  {
   "cell_type": "markdown",
   "metadata": {},
   "source": [
    "$\\textbf{E}(\\textbf{r}) = \\hat{\\varepsilon} E_0^{(+)} (\\textbf{r}) e^{-i \\omega t} + c.c.$\n",
    "\n",
    "Second order time-dependent perturbation theory\n",
    "\n",
    "$\\Delta E_{\\alpha} = -\\sum_{\\beta} \\frac{2 \\omega_{\\beta \\alpha} \\mid \\langle \\alpha \\mid \\hat{\\varepsilon} \\cdot \\textbf{d} \\mid \\beta \\rangle \\mid^2 \\mid E_0^{(+)} \\mid^2}{\\hbar (\\omega_{\\beta \\alpha}^2 - \\omega^2)}$\n",
    "\n",
    "$\\Delta E_{\\alpha} = -\\frac{1}{2} \\textbf{d}^{(+)} \\cdot \\textbf{E}^{(-)} - \\frac{1}{2} \\textbf{d}^{(-)} \\cdot \\textbf{E}^{(+)} = - Re[\\alpha(\\omega)] \\mid E_0^{(+)} \\mid^2$\n",
    "\n",
    "$\\alpha(\\omega) = \\sum_{\\beta} \\frac{2 \\omega_{\\beta \\alpha} \\mid \\langle \\alpha \\mid \\hat{\\varepsilon} \\cdot \\textbf{d} \\mid \\beta \\rangle \\mid^2}{\\hbar (\\omega_{\\beta \\alpha}^2 - \\omega^2)}$\n"
   ]
  },
  {
   "cell_type": "markdown",
   "metadata": {},
   "source": [
    "Define\n",
    "\n",
    "$\\alpha_{\\mu \\nu}(\\omega) = \\sum_{\\beta} \\frac{2 \\omega_{\\beta \\alpha}  \\langle \\alpha \\mid d_{\\mu} \\mid \\beta \\rangle \\langle \\beta \\mid d_{\\nu} \\mid \\alpha \\rangle }{\\hbar (\\omega_{\\beta \\alpha}^2 - \\omega^2)}$\n",
    "\n",
    "$\\Delta E_{\\alpha} = - Re[\\alpha_{\\mu \\nu}(\\omega)]  (E_0^{(-)})_{\\mu} (E_0^{(+)})_{\\nu} $"
   ]
  },
  {
   "cell_type": "markdown",
   "metadata": {},
   "source": [
    "$\\alpha_{\\mu \\nu}(J, m_J, \\omega) = \\sum_{J^{'}} \\frac{2 \\omega_{J^{'} J}  T_{\\mu \\nu} }{\\hbar (\\omega_{J^{'} J}^2 - \\omega^2)}$\n",
    "\n",
    "$ T_{\\mu \\nu} = \\sum_{m_J^{'}}\\langle J m_J \\mid d_{\\mu} \\mid J^{'} m_J^{'}\\rangle \\langle J^{'} m_J^{'} \\mid d_{\\nu} \\mid J m_J \\rangle$"
   ]
  },
  {
   "cell_type": "markdown",
   "metadata": {},
   "source": [
    "## Scalar shift"
   ]
  },
  {
   "cell_type": "markdown",
   "metadata": {},
   "source": [
    "$T^{(0)} = T_{\\mu \\mu}$\n",
    "\n",
    "Using Wigner-Eckart theorem,\n",
    "\n",
    "$T^{(0)} = \\mid \\langle J \\mid\\mid \\textbf{d} \\mid \\mid J^{'} \\rangle \\mid^2$\n",
    "\n",
    "$\\alpha^{(0)}(J, \\omega) = \\sum_{J^{'}} \\frac{2 \\omega_{J^{'} J} \\mid \\langle J \\mid\\mid \\textbf{d} \\mid \\mid J^{'} \\rangle \\mid^2}{3 \\hbar (\\omega_{J^{'} J}^2 - \\omega^2)}$\n",
    "\n",
    "$m_J$ independent\n"
   ]
  },
  {
   "cell_type": "markdown",
   "metadata": {},
   "source": [
    "## Vector shift"
   ]
  },
  {
   "cell_type": "markdown",
   "metadata": {},
   "source": [
    "$T_{\\mu}^{(1)} = \\epsilon_{\\mu \\sigma \\tau} (T_{\\sigma \\tau} - T_{\\tau \\sigma}) = 2 \\epsilon_{\\mu \\sigma \\tau} 2 T_{\\sigma \\tau}$\n",
    "\n",
    "$T_{q}^{(1)} = (-1)^{J + J^{'}}(-i) \\sqrt{\\frac{24(2J + 1)}{J(J+1)}} \\begin{Bmatrix}\n",
    "1 & 1 & 1 \\\\\n",
    "J & J  & J^{'} \\\\ \\end{Bmatrix} \\mid \\langle J \\mid\\mid \\textbf{d} \\mid \\mid J^{'} \\rangle \\mid^2 m_J \\delta_{q0}$\n",
    "\n",
    "$\\alpha^{(1)}(J, \\omega) = \\sum_{J^{'}}(-1)^{J + J^{'} + 1} \\sqrt{\\frac{6J(2J + 1)}{J+1}} \\begin{Bmatrix}\n",
    "1 & 1 & 1 \\\\\n",
    "J & J  & J^{'} \\\\ \\end{Bmatrix}  \\frac{ \\omega_{J^{'} J} \\mid \\langle J \\mid\\mid \\textbf{d} \\mid \\mid J^{'} \\rangle \\mid^2}{\\hbar (\\omega_{J^{'} J}^2 - \\omega^2)}$\n",
    "\n"
   ]
  },
  {
   "cell_type": "markdown",
   "metadata": {},
   "source": [
    "## Tensor shift"
   ]
  },
  {
   "cell_type": "markdown",
   "metadata": {},
   "source": [
    "$T_{\\alpha \\beta}^{(2)} = T_{\\alpha \\beta} - \\frac{1}{3} T_{\\mu \\mu} \\delta_{\\alpha \\beta}$\n",
    "\n",
    "$T_{q}^{(2)} = (-1)^{J + J^{'}} \\sqrt{\\frac{5(2J + 1)}{J(J+1)(2J-1)(2J+3)}} \\begin{Bmatrix}\n",
    "1 & 1 & 2 \\\\\n",
    "J & J  & J^{'} \\\\ \\end{Bmatrix} \\mid \\langle J \\mid\\mid \\textbf{d} \\mid \\mid J^{'} \\rangle \\mid^2 [m_J^2-J(J+1)] \\delta_{q0}$\n",
    "\n",
    "$\\alpha^{(2)}(J, \\omega) = \\sum_{J^{'}}(-1)^{J + J^{'}} \\sqrt{\\frac{40J(2J + 1)(2J-1)}{3(J+1)(2J+3)}} \\begin{Bmatrix}\n",
    "1 & 1 & 2 \\\\\n",
    "J & J  & J^{'} \\\\ \\end{Bmatrix}  \\frac{ \\omega_{J^{'} J} \\mid \\langle J \\mid\\mid \\textbf{d} \\mid \\mid J^{'} \\rangle \\mid^2}{\\hbar (\\omega_{J^{'} J}^2 - \\omega^2)}$\n"
   ]
  },
  {
   "cell_type": "markdown",
   "metadata": {},
   "source": [
    "## Total light shift"
   ]
  },
  {
   "cell_type": "markdown",
   "metadata": {},
   "source": [
    "$\\Delta E(J, m_J, \\omega) = -\\alpha^{(0)}(J, \\omega) \\mid E_0^{(+)} \\mid^2 -\\alpha^{(1)}(J, \\omega)(i \\textbf{E}_0^{(-)} \\times \\textbf{E}_0^{(+)})_z \\frac{m_J}{J} - \\alpha^{(2)}(J, \\omega) \\frac{3 \\mid E_{0z}^{(+)} \\mid^2 - \\mid E_0^{(+)} \\mid^2}{2} \\frac{3 m_J^2 - J(J+1)}{J(2J-1)}$\n",
    "\n",
    "$\\textbf{Normalization.}$ Note $(i \\textbf{E}_0^{(-)} \\times \\textbf{E}_0^{(+)})_z = \\mid \\textbf{E}_{0, -1}^{(+)}\\mid^2 - \\mid \\textbf{E}_{0, 1}^{(-)}\\mid^2$. Then $\\sigma^{+} (\\textbf{E}_0^{(+)} = E^{(+)}_{0, -1})$ has light shift\n",
    "\n",
    "$\\Delta E_{J, \\pm{J}} ^{(1)} = \\mp \\alpha^{(1)}(J) \\mid E_{0, -1}^{(+)}\\mid^2$"
   ]
  },
  {
   "cell_type": "markdown",
   "metadata": {},
   "source": [
    "## Note"
   ]
  },
  {
   "cell_type": "markdown",
   "metadata": {},
   "source": [
    "1. Linear polarization drives the scalar and tensor light shifts, thus acts as an effective dc electric field\n",
    "\n",
    "2. Circurly polarization drives the vector light shift, acts as an effective magnetic field\n",
    "\n",
    "3. $J = 0$ or $J = \\frac{1}{2}$, no tensor light shift\n",
    "\n",
    "4. $J = 0$, no vector light shift"
   ]
  },
  {
   "cell_type": "markdown",
   "metadata": {},
   "source": [
    "# 4. Decay rate and calculation of reduced matrix elements"
   ]
  },
  {
   "cell_type": "markdown",
   "metadata": {},
   "source": [
    "Wigner-Eckart theorem\n",
    "\n",
    "$\\Gamma_{n^{'} J^{'} \\rightarrow nJ} = \\frac{\\omega_{n^{'} J^{'} \\rightarrow nJ}^3}{3 \\pi \\epsilon_0 \\hbar c^3} \\frac{2 J + 1}{2 J^{'} + 1} \\mid \\langle nJ \\mid \\mid \\textbf{d} \\mid \\mid n^{'} J^{'} \\rangle \\mid^2$\n",
    "\n",
    "Using the decomposition rule\n",
    "\n",
    "$\\langle nJ \\mid \\mid \\textbf{d} \\mid \\mid n^{'}J^{'} \\rangle  = (-1)^{L^{'} + L + 1 + S} \\sqrt{(2J^{'} + 1)(2 L + 1)}  \\begin{Bmatrix}\n",
    "L & L^{'} & 1 \\\\\n",
    "J^{'} &  J & S \\\\ \\end{Bmatrix} \\langle nL \\mid \\mid \\textbf{d} \\mid \\mid nL^{'} \\rangle $\n",
    "\n",
    "$A_T(n^{'}J^{'}) = \\sum_{J} \\Gamma_{n^{'} J^{'} \\rightarrow nJ} = \\frac{\\mid \\langle nL \\mid \\mid \\textbf{d} \\mid \\mid nL^{'} \\rangle \\mid^2}{3 \\pi \\epsilon_0 \\hbar c^3} \\frac{2L+1}{2L^{'}+1} \\sum_J \\omega_{n^{'} J^{'} \\rightarrow nJ}^3 (2J+1)(2L^{'}+1) \\begin{Bmatrix}\n",
    "L & L^{'} & 1 \\\\\n",
    "J^{'} &  J & S \\\\ \\end{Bmatrix}^2$\n",
    "\n",
    "The branching ratio is then\n",
    "\n",
    "$\\frac{\\Gamma_{n^{'} J^{'} \\rightarrow nJ}}{A_T(n^{'}J^{'})} = \\frac{\\omega_{n^{'} J^{'} \\rightarrow nJ}^3 (2J+1)\\begin{Bmatrix}\n",
    "L & L^{'} & 1 \\\\\n",
    "J^{'} &  J & S \\\\ \\end{Bmatrix}^2}{\\sum_J \\omega_{n^{'} J^{'} \\rightarrow nJ}^3 (2J+1)\\begin{Bmatrix}\n",
    "L & L^{'} & 1 \\\\\n",
    "J^{'} &  J & S \\\\ \\end{Bmatrix}^2}$\n",
    "\n",
    "Then we can compute the corresponding $\\mid \\langle nJ \\mid \\mid \\textbf{d} \\mid \\mid n^{'} J^{'} \\rangle \\mid^2$\n",
    "\n",
    "It's the same as Boyd thesis when considering different $m_J, m_{J^{'}}$ states using Clebsch-Gordon coefficients and taking $\\omega^3$ term into $\\zeta$ correction. (Eq 3.9-3.10) "
   ]
  },
  {
   "cell_type": "markdown",
   "metadata": {},
   "source": [
    "# References"
   ]
  },
  {
   "cell_type": "markdown",
   "metadata": {},
   "source": [
    "1. Steck, 'Quantum and Atomic Optics', chapter 7.\n",
    "\n",
    "2. Boyd thesis\n",
    "\n",
    "3. Martin thesis"
   ]
  },
  {
   "cell_type": "markdown",
   "metadata": {},
   "source": [
    "# Special note"
   ]
  },
  {
   "cell_type": "markdown",
   "metadata": {},
   "source": [
    "The conjugate of the reduced matric element is\n",
    "\n",
    "$\\langle J^{'} \\mid \\mid   T_q^{(k)} \\mid \\mid J \\rangle = (-1)^{J^{'} - J} \\sqrt{\\frac{2 J + 1}{2 J^{'} + 1}} \\langle J \\mid \\mid   T_q^{(k)} \\mid \\mid J^{'} \\rangle ^{*}$\n",
    "\n",
    "which means specifically $\\mid \\langle J^{'} \\mid\\mid \\textbf{d} \\mid \\mid J \\rangle \\mid^2 = \\frac{2 J + 1}{2 J^{'} + 1} \\mid \\langle J \\mid\\mid \\textbf{d} \\mid \\mid J^{'} \\rangle \\mid^2 $\n",
    "\n",
    "Otherwise it will lead to wrong calculation of  excited state polarizability (Sr-88, $^1P_1$ and $^1S_0$).\n",
    "\n",
    "\n",
    "---------------------------------------\n",
    "\n",
    "From Kien2013, we can also define another normalization of reduced matrix as:\n",
    "\n",
    "(Wiger-Eckart theorem) $\\langle \\alpha j m \\mid  T_q^{(k)} \\mid \\alpha^{'} j^{'} m^{'} \\rangle = \\frac{ \\langle \\alpha j  \\mid \\mid \\textbf{T}^{(k)} \\mid \\mid \\alpha^{'} j^{'}  \\rangle }{\\sqrt{2 j + 1}}\\langle jm \\mid j^{'} m^{'}; k q \\rangle$\n",
    "\n",
    "or $\\langle \\alpha j  \\mid \\mid \\textbf{T}^{(k)} \\mid \\mid \\alpha^{'} j^{'}  \\rangle = (-1)^{2k} \\sqrt{2j + 1}\\langle \\alpha j  \\mid \\mid \\textbf{T}^{(k)} \\mid \\mid \\alpha^{'} j^{'}  \\rangle$ (Steck, equation 7.238-7.239)\n",
    "\n",
    "or through Wigner-3j symbol\n",
    "\n",
    "Then $\\mid \\langle J^{'} \\mid\\mid \\textbf{d} \\mid \\mid J \\rangle \\mid^2 =  \\mid \\langle J \\mid\\mid \\textbf{d} \\mid \\mid J^{'} \\rangle \\mid^2 $\n",
    "\n",
    "(Decomposition rule) $\\langle  j  \\mid \\mid \\textbf{T}^{(k)} \\mid \\mid j^{'}  \\rangle = \\delta_{j_2 j_2^{'}} (-1)^{j^{'} + j_1 + k + j_{2}} \\sqrt{(2j^{'} + 1)(2 j + 1)}  \\begin{Bmatrix}\n",
    "j_{1} & j_{1}^{'} & k \\\\\n",
    "j^{'} & j  & j_{2} \\\\ \\end{Bmatrix} \\langle  j_1  \\mid \\mid \\textbf{T}^{(k)} \\mid \\mid j_1^{'}  \\rangle$\n",
    "\n",
    "(Decay rate) $\\Gamma_{n^{'} J^{'} \\rightarrow nJ} = \\frac{\\omega_{n^{'} J^{'} \\rightarrow nJ}^3}{3 \\pi \\epsilon_0 \\hbar c^3} \\frac{1}{2 J^{'} + 1} \\mid \\langle nJ \\mid \\mid \\textbf{d} \\mid \\mid n^{'} J^{'} \\rangle \\mid^2$\n",
    "\n",
    "\n",
    "The corresponding polarizabilities are:\n",
    "\n",
    "$\\alpha^{(0)}(J, \\omega) = \\sum_{J^{'}} \\frac{2}{3(2J +1)}\\frac{ \\omega_{J^{'} J} \\mid \\langle J \\mid\\mid \\textbf{d} \\mid \\mid J^{'} \\rangle \\mid^2}{ \\hbar (\\omega_{J^{'} J}^2 - \\omega^2)}$\n",
    "\n",
    "$\\alpha^{(1)}(J, \\omega) = \\sum_{J^{'}}(-1)^{J + J^{'} + 1} \\sqrt{\\frac{6J}{(J+1)(2J + 1)}} \\begin{Bmatrix}\n",
    "1 & 1 & 1 \\\\\n",
    "J & J  & J^{'} \\\\ \\end{Bmatrix}  \\frac{ \\omega_{J^{'} J} \\mid \\langle J \\mid\\mid \\textbf{d} \\mid \\mid J^{'} \\rangle \\mid^2}{\\hbar (\\omega_{J^{'} J}^2 - \\omega^2)}$\n",
    "\n",
    "$\\alpha^{(2)}(J, \\omega) = \\sum_{J^{'}}(-1)^{J + J^{'}} \\sqrt{\\frac{40J(2J-1)}{3(J+1)(2J + 1)(2J+3)}} \\begin{Bmatrix}\n",
    "1 & 1 & 2 \\\\\n",
    "J & J  & J^{'} \\\\ \\end{Bmatrix}  \\frac{ \\omega_{J^{'} J} \\mid \\langle J \\mid\\mid \\textbf{d} \\mid \\mid J^{'} \\rangle \\mid^2}{\\hbar (\\omega_{J^{'} J}^2 - \\omega^2)}$"
   ]
  },
  {
   "cell_type": "code",
   "execution_count": 2,
   "metadata": {
    "collapsed": true
   },
   "outputs": [],
   "source": [
    "########################\n",
    "### TEST CALCULATION ###\n",
    "########################\n",
    "\n",
    "from IPython.display import display\n",
    "\n",
    "from sympy.interactive import printing\n",
    "printing.init_printing(use_latex=True)\n",
    "\n",
    "from __future__ import division\n",
    "import sympy as sym\n",
    "from sympy import *\n",
    "\n",
    "%matplotlib inline\n",
    "from matplotlib import rc\n",
    "rc('font',**{'family':'serif','size'   : 12})"
   ]
  },
  {
   "cell_type": "code",
   "execution_count": 4,
   "metadata": {
    "collapsed": true
   },
   "outputs": [],
   "source": [
    "from sympy import S\n",
    "from sympy.physics.wigner import racah\n",
    "from sympy.physics.wigner import wigner_3j\n",
    "from sympy.physics.wigner import wigner_6j"
   ]
  },
  {
   "cell_type": "code",
   "execution_count": 16,
   "metadata": {},
   "outputs": [
    {
     "name": "stdout",
     "output_type": "stream",
     "text": [
      "0\n",
      "0\n",
      "1/6\n",
      "1/6\n"
     ]
    }
   ],
   "source": [
    "# 1S0: J = 0\n",
    "\n",
    "print wigner_6j(1, 1, 2, 0, 0, 0)\n",
    "print wigner_6j(1, 1, 1, 0, 0, 2)\n",
    "\n",
    "#########################################################\n",
    "### NO VECTOR AND TENSOR LIGHT SHIFT, ONLY SCALAR ONE ###\n",
    "###                   SAME FOR 3P0                    ###\n",
    "#########################################################\n",
    "\n",
    "# 1P1: J = 1\n",
    "\n",
    "print wigner_6j(1, 1, 1, 1, 1, 2)\n",
    "print wigner_6j(1, 1, 1, 1, 1, 1)\n",
    "\n",
    "##############################\n",
    "### ALL THREE LIGHT SHIFTS ###\n",
    "###      SAME FOR 3P1      ###\n",
    "##############################"
   ]
  }
 ],
 "metadata": {
  "kernelspec": {
   "display_name": "Python 2",
   "language": "python",
   "name": "python2"
  },
  "language_info": {
   "codemirror_mode": {
    "name": "ipython",
    "version": 2
   },
   "file_extension": ".py",
   "mimetype": "text/x-python",
   "name": "python",
   "nbconvert_exporter": "python",
   "pygments_lexer": "ipython2",
   "version": "2.7.10"
  }
 },
 "nbformat": 4,
 "nbformat_minor": 1
}
