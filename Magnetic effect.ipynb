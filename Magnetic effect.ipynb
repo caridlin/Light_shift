{
 "cells": [
  {
   "cell_type": "markdown",
   "metadata": {},
   "source": [
    "# Fictitious magnetic field"
   ]
  },
  {
   "cell_type": "markdown",
   "metadata": {},
   "source": [
    "Tensor light shift is \n",
    "\n",
    "$\\Delta E(J, m_J, \\omega) =  -\\alpha^{(1)}(J, \\omega)(i \\textbf{E}_0^{(-)} \\times \\textbf{E}_0^{(+)})_z \\frac{m_J}{J} $\n",
    "\n",
    "Proportional to $m_J$\n",
    "\n",
    "$B^{fict} = -\\frac{\\alpha^{(1)}(J, \\omega)}{\\mu_B g J} i \\textbf{E}_0^{(-)}  \\times \\textbf{E}_0^{(+)}$\n",
    "\n",
    "Zeeman splitting of $^3P_1$\n",
    "\n",
    "$H_Z = g \\mu_B B m_J$, $g \\mu_B = 2.1 MHz/Gauss$\n",
    "\n",
    "where $g = \\frac{3}{2} + \\frac{S(S+1) - L(L+1)}{2J(J+1)} = \\frac{3}{2}$\n",
    "\n",
    "At $515 nm$, the polarizabilities are\n",
    "\n",
    "$\\alpha_{^1S_0}^{(s)} = 942.543258386$\n",
    "\n",
    "$\\alpha_{^3P_1}^{(s)} = 739.595588319$\n",
    "\n",
    "$\\alpha_{^3P_1}^{(v)} = 44.4213982605135$\n",
    "\n",
    "$\\alpha_{^3P_1}^{(t)} = -101.917990775284$\n",
    "\n",
    "$|B^{fict}_{max}| \\sim 0.5 Gauss $ for a $20 MHz$ trap"
   ]
  },
  {
   "cell_type": "code",
   "execution_count": null,
   "metadata": {
    "collapsed": true
   },
   "outputs": [],
   "source": []
  }
 ],
 "metadata": {
  "kernelspec": {
   "display_name": "Python 2",
   "language": "python",
   "name": "python2"
  },
  "language_info": {
   "codemirror_mode": {
    "name": "ipython",
    "version": 2
   },
   "file_extension": ".py",
   "mimetype": "text/x-python",
   "name": "python",
   "nbconvert_exporter": "python",
   "pygments_lexer": "ipython2",
   "version": "2.7.6"
  }
 },
 "nbformat": 4,
 "nbformat_minor": 0
}
